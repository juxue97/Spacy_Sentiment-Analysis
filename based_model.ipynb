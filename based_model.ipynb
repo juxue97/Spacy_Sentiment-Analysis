{
 "cells": [
  {
   "cell_type": "code",
   "execution_count": 1,
   "metadata": {},
   "outputs": [
    {
     "name": "stdout",
     "output_type": "stream",
     "text": [
      "testing123\n"
     ]
    }
   ],
   "source": [
    "print('testing123')"
   ]
  },
  {
   "cell_type": "code",
   "execution_count": 2,
   "metadata": {},
   "outputs": [
    {
     "data": {
      "text/html": [
       "<div>\n",
       "<style scoped>\n",
       "    .dataframe tbody tr th:only-of-type {\n",
       "        vertical-align: middle;\n",
       "    }\n",
       "\n",
       "    .dataframe tbody tr th {\n",
       "        vertical-align: top;\n",
       "    }\n",
       "\n",
       "    .dataframe thead th {\n",
       "        text-align: right;\n",
       "    }\n",
       "</style>\n",
       "<table border=\"1\" class=\"dataframe\">\n",
       "  <thead>\n",
       "    <tr style=\"text-align: right;\">\n",
       "      <th></th>\n",
       "      <th>review</th>\n",
       "      <th>sentiment</th>\n",
       "    </tr>\n",
       "  </thead>\n",
       "  <tbody>\n",
       "    <tr>\n",
       "      <th>0</th>\n",
       "      <td>One of the other reviewers has mentioned that ...</td>\n",
       "      <td>positive</td>\n",
       "    </tr>\n",
       "    <tr>\n",
       "      <th>1</th>\n",
       "      <td>A wonderful little production. &lt;br /&gt;&lt;br /&gt;The...</td>\n",
       "      <td>positive</td>\n",
       "    </tr>\n",
       "    <tr>\n",
       "      <th>2</th>\n",
       "      <td>I thought this was a wonderful way to spend ti...</td>\n",
       "      <td>positive</td>\n",
       "    </tr>\n",
       "    <tr>\n",
       "      <th>3</th>\n",
       "      <td>Basically there's a family where a little boy ...</td>\n",
       "      <td>negative</td>\n",
       "    </tr>\n",
       "    <tr>\n",
       "      <th>4</th>\n",
       "      <td>Petter Mattei's \"Love in the Time of Money\" is...</td>\n",
       "      <td>positive</td>\n",
       "    </tr>\n",
       "  </tbody>\n",
       "</table>\n",
       "</div>"
      ],
      "text/plain": [
       "                                              review sentiment\n",
       "0  One of the other reviewers has mentioned that ...  positive\n",
       "1  A wonderful little production. <br /><br />The...  positive\n",
       "2  I thought this was a wonderful way to spend ti...  positive\n",
       "3  Basically there's a family where a little boy ...  negative\n",
       "4  Petter Mattei's \"Love in the Time of Money\" is...  positive"
      ]
     },
     "execution_count": 2,
     "metadata": {},
     "output_type": "execute_result"
    }
   ],
   "source": [
    "import pandas as pd\n",
    "\n",
    "df = pd.read_csv('IMDB Dataset.csv')\n",
    "df.head()"
   ]
  },
  {
   "cell_type": "code",
   "execution_count": 3,
   "metadata": {},
   "outputs": [
    {
     "name": "stdout",
     "output_type": "stream",
     "text": [
      "(50000, 2)\n",
      "review       0\n",
      "sentiment    0\n",
      "dtype: int64\n"
     ]
    }
   ],
   "source": [
    "print(df.shape)\n",
    "print(df.isnull().sum())"
   ]
  },
  {
   "cell_type": "code",
   "execution_count": 4,
   "metadata": {},
   "outputs": [
    {
     "name": "stdout",
     "output_type": "stream",
     "text": [
      "One of the other reviewers has mentioned that after watching just 1 Oz episode you'll be hooked. They are right, as this is exactly what happened with me.<br /><br />The first thing that struck me about Oz was its brutality and unflinching scenes of violence, which set in right from the word GO. Trust me, this is not a show for the faint hearted or timid. This show pulls no punches with regards to drugs, sex or violence. Its is hardcore, in the classic use of the word.<br /><br />It is called OZ as that is the nickname given to the Oswald Maximum Security State Penitentary. It focuses mainly on Emerald City, an experimental section of the prison where all the cells have glass fronts and face inwards, so privacy is not high on the agenda. Em City is home to many..Aryans, Muslims, gangstas, Latinos, Christians, Italians, Irish and more....so scuffles, death stares, dodgy dealings and shady agreements are never far away.<br /><br />I would say the main appeal of the show is due to the fact that it goes where other shows wouldn't dare. Forget pretty pictures painted for mainstream audiences, forget charm, forget romance...OZ doesn't mess around. The first episode I ever saw struck me as so nasty it was surreal, I couldn't say I was ready for it, but as I watched more, I developed a taste for Oz, and got accustomed to the high levels of graphic violence. Not just violence, but injustice (crooked guards who'll be sold out for a nickel, inmates who'll kill on order and get away with it, well mannered, middle class inmates being turned into prison bitches due to their lack of street skills or prison experience) Watching Oz, you may become comfortable with what is uncomfortable viewing....thats if you can get in touch with your darker side. \n",
      "\n",
      "A wonderful little production. <br /><br />The filming technique is very unassuming- very old-time-BBC fashion and gives a comforting, and sometimes discomforting, sense of realism to the entire piece. <br /><br />The actors are extremely well chosen- Michael Sheen not only \"has got all the polari\" but he has all the voices down pat too! You can truly see the seamless editing guided by the references to Williams' diary entries, not only is it well worth the watching but it is a terrificly written and performed piece. A masterful production about one of the great master's of comedy and his life. <br /><br />The realism really comes home with the little things: the fantasy of the guard which, rather than use the traditional 'dream' techniques remains solid then disappears. It plays on our knowledge and our senses, particularly with the scenes concerning Orton and Halliwell and the sets (particularly of their flat with Halliwell's murals decorating every surface) are terribly well done. \n",
      "\n",
      "I thought this was a wonderful way to spend time on a too hot summer weekend, sitting in the air conditioned theater and watching a light-hearted comedy. The plot is simplistic, but the dialogue is witty and the characters are likable (even the well bread suspected serial killer). While some may be disappointed when they realize this is not Match Point 2: Risk Addiction, I thought it was proof that Woody Allen is still fully in control of the style many of us have grown to love.<br /><br />This was the most I'd laughed at one of Woody's comedies in years (dare I say a decade?). While I've never been impressed with Scarlet Johanson, in this she managed to tone down her \"sexy\" image and jumped right into a average, but spirited young woman.<br /><br />This may not be the crown jewel of his career, but it was wittier than \"Devil Wears Prada\" and more interesting than \"Superman\" a great comedy to go see with friends. \n",
      "\n",
      "Basically there's a family where a little boy (Jake) thinks there's a zombie in his closet & his parents are fighting all the time.<br /><br />This movie is slower than a soap opera... and suddenly, Jake decides to become Rambo and kill the zombie.<br /><br />OK, first of all when you're going to make a film you must Decide if its a thriller or a drama! As a drama the movie is watchable. Parents are divorcing & arguing like in real life. And then we have Jake with his closet which totally ruins all the film! I expected to see a BOOGEYMAN similar movie, and instead i watched a drama with some meaningless thriller spots.<br /><br />3 out of 10 just for the well playing parents & descent dialogs. As for the shots with Jake: just ignore them. \n",
      "\n",
      "Petter Mattei's \"Love in the Time of Money\" is a visually stunning film to watch. Mr. Mattei offers us a vivid portrait about human relations. This is a movie that seems to be telling us what money, power and success do to people in the different situations we encounter. <br /><br />This being a variation on the Arthur Schnitzler's play about the same theme, the director transfers the action to the present time New York where all these different characters meet and connect. Each one is connected in one way, or another to the next person, but no one seems to know the previous point of contact. Stylishly, the film has a sophisticated luxurious look. We are taken to see how these people live and the world they live in their own habitat.<br /><br />The only thing one gets out of all these souls in the picture is the different stages of loneliness each one inhabits. A big city is not exactly the best place in which human relations find sincere fulfillment, as one discerns is the case with most of the people we encounter.<br /><br />The acting is good under Mr. Mattei's direction. Steve Buscemi, Rosario Dawson, Carol Kane, Michael Imperioli, Adrian Grenier, and the rest of the talented cast, make these characters come alive.<br /><br />We wish Mr. Mattei good luck and await anxiously for his next work. \n",
      "\n"
     ]
    }
   ],
   "source": [
    "for sentence in df.review[:5]:\n",
    "    print(sentence,'\\n')"
   ]
  },
  {
   "cell_type": "code",
   "execution_count": 5,
   "metadata": {},
   "outputs": [
    {
     "name": "stdout",
     "output_type": "stream",
     "text": [
      "Collecting en-core-web-md==3.7.1\n",
      "  Downloading https://github.com/explosion/spacy-models/releases/download/en_core_web_md-3.7.1/en_core_web_md-3.7.1-py3-none-any.whl (42.8 MB)\n",
      "     ---------------------------------------- 0.0/42.8 MB ? eta -:--:--\n",
      "     ---------------------------------------- 0.0/42.8 MB 1.3 MB/s eta 0:00:34\n",
      "     --------------------------------------- 0.1/42.8 MB 518.5 kB/s eta 0:01:23\n",
      "     --------------------------------------- 0.1/42.8 MB 930.9 kB/s eta 0:00:46\n",
      "     ---------------------------------------- 0.2/42.8 MB 1.0 MB/s eta 0:00:41\n",
      "     ---------------------------------------- 0.3/42.8 MB 1.1 MB/s eta 0:00:38\n",
      "     ---------------------------------------- 0.4/42.8 MB 1.3 MB/s eta 0:00:32\n",
      "     ---------------------------------------- 0.4/42.8 MB 1.3 MB/s eta 0:00:32\n",
      "      --------------------------------------- 0.6/42.8 MB 1.8 MB/s eta 0:00:24\n",
      "      --------------------------------------- 0.9/42.8 MB 2.1 MB/s eta 0:00:21\n",
      "     - -------------------------------------- 1.2/42.8 MB 2.7 MB/s eta 0:00:16\n",
      "     - -------------------------------------- 1.9/42.8 MB 3.7 MB/s eta 0:00:11\n",
      "     -- ------------------------------------- 2.5/42.8 MB 4.6 MB/s eta 0:00:09\n",
      "     --- ------------------------------------ 4.2/42.8 MB 7.1 MB/s eta 0:00:06\n",
      "     ----- ---------------------------------- 5.6/42.8 MB 8.7 MB/s eta 0:00:05\n",
      "     ------ --------------------------------- 6.6/42.8 MB 10.0 MB/s eta 0:00:04\n",
      "     ------ --------------------------------- 6.6/42.8 MB 10.0 MB/s eta 0:00:04\n",
      "     -------- ------------------------------- 8.8/42.8 MB 11.3 MB/s eta 0:00:04\n",
      "     ---------- ---------------------------- 11.4/42.8 MB 26.2 MB/s eta 0:00:02\n",
      "     ----------- --------------------------- 12.2/42.8 MB 29.7 MB/s eta 0:00:02\n",
      "     ----------- --------------------------- 12.2/42.8 MB 29.7 MB/s eta 0:00:02\n",
      "     --------------- ----------------------- 16.9/42.8 MB 46.7 MB/s eta 0:00:01\n",
      "     ------------------ -------------------- 20.6/42.8 MB 43.7 MB/s eta 0:00:01\n",
      "     -------------------- ------------------ 22.5/42.8 MB 81.8 MB/s eta 0:00:01\n",
      "     --------------------- ----------------- 24.1/42.8 MB 65.6 MB/s eta 0:00:01\n",
      "     ----------------------- --------------- 25.8/42.8 MB 50.4 MB/s eta 0:00:01\n",
      "     ------------------------- ------------- 27.7/42.8 MB 43.5 MB/s eta 0:00:01\n",
      "     -------------------------- ------------ 29.1/42.8 MB 38.6 MB/s eta 0:00:01\n",
      "     ---------------------------- ---------- 31.1/42.8 MB 36.4 MB/s eta 0:00:01\n",
      "     ----------------------------- --------- 32.8/42.8 MB 36.4 MB/s eta 0:00:01\n",
      "     ------------------------------- ------- 34.8/42.8 MB 36.4 MB/s eta 0:00:01\n",
      "     --------------------------------- ----- 36.7/42.8 MB 38.5 MB/s eta 0:00:01\n",
      "     ---------------------------------- ---- 38.3/42.8 MB 36.4 MB/s eta 0:00:01\n",
      "     ------------------------------------ -- 40.2/42.8 MB 38.5 MB/s eta 0:00:01\n",
      "     --------------------------------------  41.9/42.8 MB 38.5 MB/s eta 0:00:01\n",
      "     --------------------------------------  42.8/42.8 MB 38.6 MB/s eta 0:00:01\n",
      "     --------------------------------------  42.8/42.8 MB 38.6 MB/s eta 0:00:01\n",
      "     --------------------------------------- 42.8/42.8 MB 29.8 MB/s eta 0:00:00\n",
      "Requirement already satisfied: spacy<3.8.0,>=3.7.2 in c:\\users\\user\\desktop\\algorithms\\datascience\\well_structured\\nlp\\classification\\sa_imdb_p\\imdb_sent\\lib\\site-packages (from en-core-web-md==3.7.1) (3.7.4)\n",
      "Requirement already satisfied: spacy-legacy<3.1.0,>=3.0.11 in c:\\users\\user\\desktop\\algorithms\\datascience\\well_structured\\nlp\\classification\\sa_imdb_p\\imdb_sent\\lib\\site-packages (from spacy<3.8.0,>=3.7.2->en-core-web-md==3.7.1) (3.0.12)\n",
      "Requirement already satisfied: spacy-loggers<2.0.0,>=1.0.0 in c:\\users\\user\\desktop\\algorithms\\datascience\\well_structured\\nlp\\classification\\sa_imdb_p\\imdb_sent\\lib\\site-packages (from spacy<3.8.0,>=3.7.2->en-core-web-md==3.7.1) (1.0.5)\n",
      "Requirement already satisfied: murmurhash<1.1.0,>=0.28.0 in c:\\users\\user\\desktop\\algorithms\\datascience\\well_structured\\nlp\\classification\\sa_imdb_p\\imdb_sent\\lib\\site-packages (from spacy<3.8.0,>=3.7.2->en-core-web-md==3.7.1) (1.0.10)\n",
      "Requirement already satisfied: cymem<2.1.0,>=2.0.2 in c:\\users\\user\\desktop\\algorithms\\datascience\\well_structured\\nlp\\classification\\sa_imdb_p\\imdb_sent\\lib\\site-packages (from spacy<3.8.0,>=3.7.2->en-core-web-md==3.7.1) (2.0.8)\n",
      "Requirement already satisfied: preshed<3.1.0,>=3.0.2 in c:\\users\\user\\desktop\\algorithms\\datascience\\well_structured\\nlp\\classification\\sa_imdb_p\\imdb_sent\\lib\\site-packages (from spacy<3.8.0,>=3.7.2->en-core-web-md==3.7.1) (3.0.9)\n",
      "Requirement already satisfied: thinc<8.3.0,>=8.2.2 in c:\\users\\user\\desktop\\algorithms\\datascience\\well_structured\\nlp\\classification\\sa_imdb_p\\imdb_sent\\lib\\site-packages (from spacy<3.8.0,>=3.7.2->en-core-web-md==3.7.1) (8.2.3)\n",
      "Requirement already satisfied: wasabi<1.2.0,>=0.9.1 in c:\\users\\user\\desktop\\algorithms\\datascience\\well_structured\\nlp\\classification\\sa_imdb_p\\imdb_sent\\lib\\site-packages (from spacy<3.8.0,>=3.7.2->en-core-web-md==3.7.1) (1.1.2)\n",
      "Requirement already satisfied: srsly<3.0.0,>=2.4.3 in c:\\users\\user\\desktop\\algorithms\\datascience\\well_structured\\nlp\\classification\\sa_imdb_p\\imdb_sent\\lib\\site-packages (from spacy<3.8.0,>=3.7.2->en-core-web-md==3.7.1) (2.4.8)\n",
      "Requirement already satisfied: catalogue<2.1.0,>=2.0.6 in c:\\users\\user\\desktop\\algorithms\\datascience\\well_structured\\nlp\\classification\\sa_imdb_p\\imdb_sent\\lib\\site-packages (from spacy<3.8.0,>=3.7.2->en-core-web-md==3.7.1) (2.0.10)\n",
      "Requirement already satisfied: weasel<0.4.0,>=0.1.0 in c:\\users\\user\\desktop\\algorithms\\datascience\\well_structured\\nlp\\classification\\sa_imdb_p\\imdb_sent\\lib\\site-packages (from spacy<3.8.0,>=3.7.2->en-core-web-md==3.7.1) (0.3.4)\n",
      "Requirement already satisfied: typer<0.10.0,>=0.3.0 in c:\\users\\user\\desktop\\algorithms\\datascience\\well_structured\\nlp\\classification\\sa_imdb_p\\imdb_sent\\lib\\site-packages (from spacy<3.8.0,>=3.7.2->en-core-web-md==3.7.1) (0.9.4)\n",
      "Requirement already satisfied: smart-open<7.0.0,>=5.2.1 in c:\\users\\user\\desktop\\algorithms\\datascience\\well_structured\\nlp\\classification\\sa_imdb_p\\imdb_sent\\lib\\site-packages (from spacy<3.8.0,>=3.7.2->en-core-web-md==3.7.1) (6.4.0)\n",
      "Requirement already satisfied: tqdm<5.0.0,>=4.38.0 in c:\\users\\user\\desktop\\algorithms\\datascience\\well_structured\\nlp\\classification\\sa_imdb_p\\imdb_sent\\lib\\site-packages (from spacy<3.8.0,>=3.7.2->en-core-web-md==3.7.1) (4.66.2)\n",
      "Requirement already satisfied: requests<3.0.0,>=2.13.0 in c:\\users\\user\\desktop\\algorithms\\datascience\\well_structured\\nlp\\classification\\sa_imdb_p\\imdb_sent\\lib\\site-packages (from spacy<3.8.0,>=3.7.2->en-core-web-md==3.7.1) (2.31.0)\n",
      "Requirement already satisfied: pydantic!=1.8,!=1.8.1,<3.0.0,>=1.7.4 in c:\\users\\user\\desktop\\algorithms\\datascience\\well_structured\\nlp\\classification\\sa_imdb_p\\imdb_sent\\lib\\site-packages (from spacy<3.8.0,>=3.7.2->en-core-web-md==3.7.1) (2.6.4)\n",
      "Requirement already satisfied: jinja2 in c:\\users\\user\\desktop\\algorithms\\datascience\\well_structured\\nlp\\classification\\sa_imdb_p\\imdb_sent\\lib\\site-packages (from spacy<3.8.0,>=3.7.2->en-core-web-md==3.7.1) (3.1.3)\n",
      "Requirement already satisfied: setuptools in c:\\users\\user\\desktop\\algorithms\\datascience\\well_structured\\nlp\\classification\\sa_imdb_p\\imdb_sent\\lib\\site-packages (from spacy<3.8.0,>=3.7.2->en-core-web-md==3.7.1) (68.2.2)\n",
      "Requirement already satisfied: packaging>=20.0 in c:\\users\\user\\desktop\\algorithms\\datascience\\well_structured\\nlp\\classification\\sa_imdb_p\\imdb_sent\\lib\\site-packages (from spacy<3.8.0,>=3.7.2->en-core-web-md==3.7.1) (24.0)\n",
      "Requirement already satisfied: langcodes<4.0.0,>=3.2.0 in c:\\users\\user\\desktop\\algorithms\\datascience\\well_structured\\nlp\\classification\\sa_imdb_p\\imdb_sent\\lib\\site-packages (from spacy<3.8.0,>=3.7.2->en-core-web-md==3.7.1) (3.3.0)\n",
      "Requirement already satisfied: numpy>=1.19.0 in c:\\users\\user\\desktop\\algorithms\\datascience\\well_structured\\nlp\\classification\\sa_imdb_p\\imdb_sent\\lib\\site-packages (from spacy<3.8.0,>=3.7.2->en-core-web-md==3.7.1) (1.26.4)\n",
      "Requirement already satisfied: annotated-types>=0.4.0 in c:\\users\\user\\desktop\\algorithms\\datascience\\well_structured\\nlp\\classification\\sa_imdb_p\\imdb_sent\\lib\\site-packages (from pydantic!=1.8,!=1.8.1,<3.0.0,>=1.7.4->spacy<3.8.0,>=3.7.2->en-core-web-md==3.7.1) (0.6.0)\n",
      "Requirement already satisfied: pydantic-core==2.16.3 in c:\\users\\user\\desktop\\algorithms\\datascience\\well_structured\\nlp\\classification\\sa_imdb_p\\imdb_sent\\lib\\site-packages (from pydantic!=1.8,!=1.8.1,<3.0.0,>=1.7.4->spacy<3.8.0,>=3.7.2->en-core-web-md==3.7.1) (2.16.3)\n",
      "Requirement already satisfied: typing-extensions>=4.6.1 in c:\\users\\user\\desktop\\algorithms\\datascience\\well_structured\\nlp\\classification\\sa_imdb_p\\imdb_sent\\lib\\site-packages (from pydantic!=1.8,!=1.8.1,<3.0.0,>=1.7.4->spacy<3.8.0,>=3.7.2->en-core-web-md==3.7.1) (4.10.0)\n",
      "Requirement already satisfied: charset-normalizer<4,>=2 in c:\\users\\user\\desktop\\algorithms\\datascience\\well_structured\\nlp\\classification\\sa_imdb_p\\imdb_sent\\lib\\site-packages (from requests<3.0.0,>=2.13.0->spacy<3.8.0,>=3.7.2->en-core-web-md==3.7.1) (3.3.2)\n",
      "Requirement already satisfied: idna<4,>=2.5 in c:\\users\\user\\desktop\\algorithms\\datascience\\well_structured\\nlp\\classification\\sa_imdb_p\\imdb_sent\\lib\\site-packages (from requests<3.0.0,>=2.13.0->spacy<3.8.0,>=3.7.2->en-core-web-md==3.7.1) (3.6)\n",
      "Requirement already satisfied: urllib3<3,>=1.21.1 in c:\\users\\user\\desktop\\algorithms\\datascience\\well_structured\\nlp\\classification\\sa_imdb_p\\imdb_sent\\lib\\site-packages (from requests<3.0.0,>=2.13.0->spacy<3.8.0,>=3.7.2->en-core-web-md==3.7.1) (2.2.1)\n",
      "Requirement already satisfied: certifi>=2017.4.17 in c:\\users\\user\\desktop\\algorithms\\datascience\\well_structured\\nlp\\classification\\sa_imdb_p\\imdb_sent\\lib\\site-packages (from requests<3.0.0,>=2.13.0->spacy<3.8.0,>=3.7.2->en-core-web-md==3.7.1) (2024.2.2)\n",
      "Requirement already satisfied: blis<0.8.0,>=0.7.8 in c:\\users\\user\\desktop\\algorithms\\datascience\\well_structured\\nlp\\classification\\sa_imdb_p\\imdb_sent\\lib\\site-packages (from thinc<8.3.0,>=8.2.2->spacy<3.8.0,>=3.7.2->en-core-web-md==3.7.1) (0.7.11)\n",
      "Requirement already satisfied: confection<1.0.0,>=0.0.1 in c:\\users\\user\\desktop\\algorithms\\datascience\\well_structured\\nlp\\classification\\sa_imdb_p\\imdb_sent\\lib\\site-packages (from thinc<8.3.0,>=8.2.2->spacy<3.8.0,>=3.7.2->en-core-web-md==3.7.1) (0.1.4)\n",
      "Requirement already satisfied: colorama in c:\\users\\user\\desktop\\algorithms\\datascience\\well_structured\\nlp\\classification\\sa_imdb_p\\imdb_sent\\lib\\site-packages (from tqdm<5.0.0,>=4.38.0->spacy<3.8.0,>=3.7.2->en-core-web-md==3.7.1) (0.4.6)\n",
      "Requirement already satisfied: click<9.0.0,>=7.1.1 in c:\\users\\user\\desktop\\algorithms\\datascience\\well_structured\\nlp\\classification\\sa_imdb_p\\imdb_sent\\lib\\site-packages (from typer<0.10.0,>=0.3.0->spacy<3.8.0,>=3.7.2->en-core-web-md==3.7.1) (8.1.7)\n",
      "Requirement already satisfied: cloudpathlib<0.17.0,>=0.7.0 in c:\\users\\user\\desktop\\algorithms\\datascience\\well_structured\\nlp\\classification\\sa_imdb_p\\imdb_sent\\lib\\site-packages (from weasel<0.4.0,>=0.1.0->spacy<3.8.0,>=3.7.2->en-core-web-md==3.7.1) (0.16.0)\n",
      "Requirement already satisfied: MarkupSafe>=2.0 in c:\\users\\user\\desktop\\algorithms\\datascience\\well_structured\\nlp\\classification\\sa_imdb_p\\imdb_sent\\lib\\site-packages (from jinja2->spacy<3.8.0,>=3.7.2->en-core-web-md==3.7.1) (2.1.5)\n",
      "\u001b[38;5;2m✔ Download and installation successful\u001b[0m\n",
      "You can now load the package via spacy.load('en_core_web_md')\n"
     ]
    }
   ],
   "source": [
    "# download medium model\n",
    "!python -m spacy download en_core_web_md"
   ]
  },
  {
   "cell_type": "code",
   "execution_count": 6,
   "metadata": {},
   "outputs": [
    {
     "data": {
      "text/plain": [
       "Index(['review', 'sentiment'], dtype='object')"
      ]
     },
     "execution_count": 6,
     "metadata": {},
     "output_type": "execute_result"
    }
   ],
   "source": [
    "df.columns"
   ]
  },
  {
   "cell_type": "code",
   "execution_count": 7,
   "metadata": {},
   "outputs": [],
   "source": [
    "from sklearn.preprocessing import OneHotEncoder\n",
    "\n",
    "ohe = OneHotEncoder(drop='first')"
   ]
  },
  {
   "cell_type": "code",
   "execution_count": 8,
   "metadata": {},
   "outputs": [
    {
     "data": {
      "text/plain": [
       "[array(['negative', 'positive'], dtype=object)]"
      ]
     },
     "execution_count": 8,
     "metadata": {},
     "output_type": "execute_result"
    }
   ],
   "source": [
    "result = ohe.fit_transform(df[['sentiment']]).toarray()\n",
    "ohe.categories_"
   ]
  },
  {
   "cell_type": "code",
   "execution_count": 9,
   "metadata": {},
   "outputs": [
    {
     "data": {
      "text/html": [
       "<div>\n",
       "<style scoped>\n",
       "    .dataframe tbody tr th:only-of-type {\n",
       "        vertical-align: middle;\n",
       "    }\n",
       "\n",
       "    .dataframe tbody tr th {\n",
       "        vertical-align: top;\n",
       "    }\n",
       "\n",
       "    .dataframe thead th {\n",
       "        text-align: right;\n",
       "    }\n",
       "</style>\n",
       "<table border=\"1\" class=\"dataframe\">\n",
       "  <thead>\n",
       "    <tr style=\"text-align: right;\">\n",
       "      <th></th>\n",
       "      <th>review</th>\n",
       "      <th>sentiment</th>\n",
       "    </tr>\n",
       "  </thead>\n",
       "  <tbody>\n",
       "    <tr>\n",
       "      <th>0</th>\n",
       "      <td>One of the other reviewers has mentioned that ...</td>\n",
       "      <td>1.0</td>\n",
       "    </tr>\n",
       "    <tr>\n",
       "      <th>1</th>\n",
       "      <td>A wonderful little production. &lt;br /&gt;&lt;br /&gt;The...</td>\n",
       "      <td>1.0</td>\n",
       "    </tr>\n",
       "    <tr>\n",
       "      <th>2</th>\n",
       "      <td>I thought this was a wonderful way to spend ti...</td>\n",
       "      <td>1.0</td>\n",
       "    </tr>\n",
       "    <tr>\n",
       "      <th>3</th>\n",
       "      <td>Basically there's a family where a little boy ...</td>\n",
       "      <td>0.0</td>\n",
       "    </tr>\n",
       "    <tr>\n",
       "      <th>4</th>\n",
       "      <td>Petter Mattei's \"Love in the Time of Money\" is...</td>\n",
       "      <td>1.0</td>\n",
       "    </tr>\n",
       "  </tbody>\n",
       "</table>\n",
       "</div>"
      ],
      "text/plain": [
       "                                              review  sentiment\n",
       "0  One of the other reviewers has mentioned that ...        1.0\n",
       "1  A wonderful little production. <br /><br />The...        1.0\n",
       "2  I thought this was a wonderful way to spend ti...        1.0\n",
       "3  Basically there's a family where a little boy ...        0.0\n",
       "4  Petter Mattei's \"Love in the Time of Money\" is...        1.0"
      ]
     },
     "execution_count": 9,
     "metadata": {},
     "output_type": "execute_result"
    }
   ],
   "source": [
    "df['sentiment'] = pd.DataFrame(result)\n",
    "df.head()"
   ]
  },
  {
   "cell_type": "code",
   "execution_count": 10,
   "metadata": {},
   "outputs": [
    {
     "data": {
      "text/plain": [
       "((50000,), (50000,))"
      ]
     },
     "execution_count": 10,
     "metadata": {},
     "output_type": "execute_result"
    }
   ],
   "source": [
    "X = df['review']\n",
    "y = df['sentiment']\n",
    "X.shape, y.shape"
   ]
  },
  {
   "cell_type": "code",
   "execution_count": 11,
   "metadata": {},
   "outputs": [
    {
     "data": {
      "text/plain": [
       "((40000,), (10000,))"
      ]
     },
     "execution_count": 11,
     "metadata": {},
     "output_type": "execute_result"
    }
   ],
   "source": [
    "from sklearn.model_selection import train_test_split\n",
    "\n",
    "X_train,X_test,y_train,y_test = train_test_split(X,y,test_size=0.2,random_state=43,stratify=y)\n",
    "\n",
    "X_train.shape,X_test.shape"
   ]
  },
  {
   "cell_type": "markdown",
   "metadata": {},
   "source": [
    "## Text cleaning Steps:\n",
    "1. symbol,punctuations removal\n",
    "2. stopwords removal\n",
    "3. lemmatize\n"
   ]
  },
  {
   "cell_type": "code",
   "execution_count": 13,
   "metadata": {},
   "outputs": [
    {
     "name": "stdout",
     "output_type": "stream",
     "text": [
      "3.7.4\n",
      "3.7.4\n"
     ]
    },
    {
     "name": "stderr",
     "output_type": "stream",
     "text": [
      "100%|██████████| 40000/40000 [22:02<00:00, 30.25it/s]\n"
     ]
    }
   ],
   "source": [
    "import string\n",
    "import re\n",
    "import spacy\n",
    "print(spacy.__version__)\n",
    "\n",
    "from spacy.lang.en.stop_words import STOP_WORDS\n",
    "from tqdm import tqdm\n",
    "\n",
    "nlp = spacy.load('en_core_web_md')\n",
    "punctuations = string.punctuation\n",
    "\n",
    "cleaned_reviews = []\n",
    "for text in tqdm(X_train['review']):\n",
    "    #print(text)\n",
    "    # Remove <br /> tags, emojis\n",
    "    clean_text = re.sub('<br\\s*/?>', '', text)\n",
    "    clean_text = re.sub(':\\S+', '', clean_text)\n",
    "\n",
    "    doc = nlp(clean_text)\n",
    "    # lemmatize -> remove stopwords and punctuations\n",
    "    lemma_tokens = [token.lemma_ for token in doc if token.pos_ !='PRON']\n",
    "    clean_tokens = ' '.join([token.lower() for token in lemma_tokens if token not in STOP_WORDS and token not in punctuations])\n",
    "    cleaned_reviews.append(clean_tokens)\n",
    "    #print(clean_tokens,'\\n')\n",
    "\n",
    "X_train['review'] = cleaned_reviews"
   ]
  },
  {
   "attachments": {
    "image.png": {
     "image/png": "[encoded data removed]"
    }
   },
   "cell_type": "markdown",
   "metadata": {},
   "source": [
    "#### with spacy, the processing time reduced by alot compared to nltk library\n",
    "#### below picture show the previous approach and time consumed.\n",
    "![image.png](attachment:image.png)"
   ]
  },
  {
   "cell_type": "code",
   "execution_count": 16,
   "metadata": {},
   "outputs": [
    {
     "data": {
      "text/html": [
       "<div>\n",
       "<style scoped>\n",
       "    .dataframe tbody tr th:only-of-type {\n",
       "        vertical-align: middle;\n",
       "    }\n",
       "\n",
       "    .dataframe tbody tr th {\n",
       "        vertical-align: top;\n",
       "    }\n",
       "\n",
       "    .dataframe thead th {\n",
       "        text-align: right;\n",
       "    }\n",
       "</style>\n",
       "<table border=\"1\" class=\"dataframe\">\n",
       "  <thead>\n",
       "    <tr style=\"text-align: right;\">\n",
       "      <th></th>\n",
       "      <th>review</th>\n",
       "    </tr>\n",
       "  </thead>\n",
       "  <tbody>\n",
       "    <tr>\n",
       "      <th>45657</th>\n",
       "      <td>think river soul good babylon 5 movie exceptio...</td>\n",
       "    </tr>\n",
       "    <tr>\n",
       "      <th>21120</th>\n",
       "      <td>earth surprising beautiful romantic tale saman...</td>\n",
       "    </tr>\n",
       "    <tr>\n",
       "      <th>40578</th>\n",
       "      <td>title reference destruction remnant harvest li...</td>\n",
       "    </tr>\n",
       "    <tr>\n",
       "      <th>49770</th>\n",
       "      <td>hedy lamarr man screen actress mistress kent t...</td>\n",
       "    </tr>\n",
       "    <tr>\n",
       "      <th>11504</th>\n",
       "      <td>guess remember nicole eggert little girl day t...</td>\n",
       "    </tr>\n",
       "  </tbody>\n",
       "</table>\n",
       "</div>"
      ],
      "text/plain": [
       "                                                  review\n",
       "45657  think river soul good babylon 5 movie exceptio...\n",
       "21120  earth surprising beautiful romantic tale saman...\n",
       "40578  title reference destruction remnant harvest li...\n",
       "49770  hedy lamarr man screen actress mistress kent t...\n",
       "11504  guess remember nicole eggert little girl day t..."
      ]
     },
     "execution_count": 16,
     "metadata": {},
     "output_type": "execute_result"
    }
   ],
   "source": [
    "X_train.head()"
   ]
  },
  {
   "cell_type": "code",
   "execution_count": 12,
   "metadata": {},
   "outputs": [
    {
     "name": "stdout",
     "output_type": "stream",
     "text": [
      "3.7.4\n"
     ]
    }
   ],
   "source": [
    "import string\n",
    "import re\n",
    "import spacy\n",
    "print(spacy.__version__)\n",
    "\n",
    "from spacy.lang.en.stop_words import STOP_WORDS\n",
    "from tqdm import tqdm\n",
    "\n",
    "nlp = spacy.load('en_core_web_md')\n",
    "punctuations = string.punctuation\n",
    "\n",
    "def tokenizer(text):\n",
    "    \n",
    "    # Remove <br /> tags, emojis\n",
    "    clean_text = re.sub('<br\\s*/?>', '', text)\n",
    "    clean_text = re.sub(':\\S+', '', clean_text)\n",
    "\n",
    "    doc = nlp(clean_text)\n",
    "    # lemmatize -> remove stopwords and punctuations\n",
    "    lemma_tokens = [token.lemma_ for token in doc if token.pos_ !='PRON']\n",
    "    clean_tokens = [token.lower() for token in lemma_tokens if token not in STOP_WORDS and token not in punctuations]\n",
    "\n",
    "    return clean_tokens"
   ]
  },
  {
   "cell_type": "markdown",
   "metadata": {},
   "source": [
    "### convert the dataset into vector representation format\n",
    "1. Bag of word\n",
    "2. TF-IDF"
   ]
  },
  {
   "cell_type": "code",
   "execution_count": 13,
   "metadata": {},
   "outputs": [],
   "source": [
    "from sklearn.feature_extraction.text import CountVectorizer, TfidfVectorizer\n",
    "from sklearn.pipeline import Pipeline\n",
    "from sklearn.naive_bayes import MultinomialNB\n",
    "\n",
    "# BoW\n",
    "bow = CountVectorizer(tokenizer = tokenizer,ngram_range=(1,1))\n",
    "# TF-IDF\n",
    "tf_idf = TfidfVectorizer(tokenizer = tokenizer)\n",
    "\n",
    "# NB Clf\n",
    "NB = MultinomialNB()\n",
    "\n",
    "pipe_bow = Pipeline([\n",
    "    ('bow',bow),\n",
    "    ('clf',NB)\n",
    "])\n",
    "\n",
    "pipe_tf_idf = Pipeline([\n",
    "    ('tf-idf',tf_idf),\n",
    "    ('clf',NB)\n",
    "])"
   ]
  },
  {
   "cell_type": "code",
   "execution_count": 20,
   "metadata": {},
   "outputs": [
    {
     "data": {
      "text/plain": [
       "(Pipeline(steps=[('bow',\n",
       "                  CountVectorizer(tokenizer=<function tokenizer at 0x00000299F90EBF40>)),\n",
       "                 ('clf', MultinomialNB())]),\n",
       " Pipeline(steps=[('tf-idf',\n",
       "                  TfidfVectorizer(tokenizer=<function tokenizer at 0x00000299F90EBF40>)),\n",
       "                 ('clf', MultinomialNB())]))"
      ]
     },
     "execution_count": 20,
     "metadata": {},
     "output_type": "execute_result"
    }
   ],
   "source": [
    "pipe_bow,pipe_tf_idf"
   ]
  },
  {
   "cell_type": "code",
   "execution_count": 31,
   "metadata": {},
   "outputs": [
    {
     "name": "stderr",
     "output_type": "stream",
     "text": [
      "  0%|          | 0/2 [00:00<?, ?it/s]c:\\Users\\User\\Desktop\\Algorithms\\DataScience\\well_structured\\NLP\\classification\\SA_IMDB_p\\IMDB_Sent\\lib\\site-packages\\sklearn\\feature_extraction\\text.py:525: UserWarning: The parameter 'token_pattern' will not be used since 'tokenizer' is not None'\n",
      "  warnings.warn(\n"
     ]
    },
    {
     "name": "stdout",
     "output_type": "stream",
     "text": [
      "Fitting pipeline: pipe_bow\n"
     ]
    },
    {
     "name": "stderr",
     "output_type": "stream",
     "text": [
      " 50%|█████     | 1/2 [21:10<21:10, 1270.46s/it]c:\\Users\\User\\Desktop\\Algorithms\\DataScience\\well_structured\\NLP\\classification\\SA_IMDB_p\\IMDB_Sent\\lib\\site-packages\\sklearn\\feature_extraction\\text.py:525: UserWarning: The parameter 'token_pattern' will not be used since 'tokenizer' is not None'\n",
      "  warnings.warn(\n"
     ]
    },
    {
     "name": "stdout",
     "output_type": "stream",
     "text": [
      "Fitting pipeline: pipe_tf_idf\n"
     ]
    },
    {
     "name": "stderr",
     "output_type": "stream",
     "text": [
      "100%|██████████| 2/2 [41:51<00:00, 1255.83s/it]\n"
     ]
    }
   ],
   "source": [
    "pipelines = {'pipe_bow':pipe_bow, 'pipe_tf_idf':pipe_tf_idf}\n",
    "\n",
    "for name,pipe in tqdm(pipelines.items()):\n",
    "    print(f'Fitting pipeline: {name}')\n",
    "    pipe.fit(X_train,y_train)"
   ]
  },
  {
   "cell_type": "code",
   "execution_count": 16,
   "metadata": {},
   "outputs": [],
   "source": [
    "from sklearn.metrics import classification_report,confusion_matrix,accuracy_score\n",
    "def performance(y_test,y_pred):\n",
    "    acc_score = accuracy_score(y_test,y_pred)\n",
    "    cr = classification_report(y_test,y_pred)\n",
    "    cm = confusion_matrix(y_test,y_pred)\n",
    "\n",
    "    print(f'Accuracy : {acc_score:.2f}')\n",
    "    print(cr)\n",
    "    print(cm)"
   ]
  },
  {
   "cell_type": "code",
   "execution_count": 33,
   "metadata": {},
   "outputs": [
    {
     "name": "stdout",
     "output_type": "stream",
     "text": [
      "result for bow: \n",
      "\n",
      "Accuracy : 0.86\n",
      "              precision    recall  f1-score   support\n",
      "\n",
      "         0.0       0.83      0.89      0.86      5000\n",
      "         1.0       0.88      0.82      0.85      5000\n",
      "\n",
      "    accuracy                           0.86     10000\n",
      "   macro avg       0.86      0.86      0.86     10000\n",
      "weighted avg       0.86      0.86      0.86     10000\n",
      "\n",
      "[[4436  564]\n",
      " [ 880 4120]]\n"
     ]
    }
   ],
   "source": [
    "## prediction\n",
    "y_pred = pipe_bow.predict(X_test)\n",
    "print('result for bow: \\n')\n",
    "performance(y_test,y_pred)"
   ]
  },
  {
   "cell_type": "code",
   "execution_count": 34,
   "metadata": {},
   "outputs": [
    {
     "name": "stdout",
     "output_type": "stream",
     "text": [
      "result for tf_idf: \n",
      "\n",
      "Accuracy : 0.86\n",
      "              precision    recall  f1-score   support\n",
      "\n",
      "         0.0       0.85      0.86      0.86      5000\n",
      "         1.0       0.86      0.85      0.86      5000\n",
      "\n",
      "    accuracy                           0.86     10000\n",
      "   macro avg       0.86      0.86      0.86     10000\n",
      "weighted avg       0.86      0.86      0.86     10000\n",
      "\n",
      "[[4319  681]\n",
      " [ 745 4255]]\n"
     ]
    }
   ],
   "source": [
    "## prediction\n",
    "y_pred = pipe_tf_idf.predict(X_test)\n",
    "print('result for tf_idf: \\n')\n",
    "performance(y_test,y_pred)"
   ]
  },
  {
   "cell_type": "code",
   "execution_count": 14,
   "metadata": {},
   "outputs": [
    {
     "name": "stderr",
     "output_type": "stream",
     "text": [
      "  0%|          | 0/2 [00:00<?, ?it/s]c:\\Users\\User\\Desktop\\Algorithms\\DataScience\\well_structured\\NLP\\classification\\SA_IMDB_p\\IMDB_Sent\\lib\\site-packages\\sklearn\\feature_extraction\\text.py:525: UserWarning: The parameter 'token_pattern' will not be used since 'tokenizer' is not None'\n",
      "  warnings.warn(\n"
     ]
    },
    {
     "name": "stdout",
     "output_type": "stream",
     "text": [
      "Fitting pipeline: pipe_bow\n"
     ]
    },
    {
     "name": "stderr",
     "output_type": "stream",
     "text": [
      " 50%|█████     | 1/2 [25:35<25:35, 1535.62s/it]c:\\Users\\User\\Desktop\\Algorithms\\DataScience\\well_structured\\NLP\\classification\\SA_IMDB_p\\IMDB_Sent\\lib\\site-packages\\sklearn\\feature_extraction\\text.py:525: UserWarning: The parameter 'token_pattern' will not be used since 'tokenizer' is not None'\n",
      "  warnings.warn(\n"
     ]
    },
    {
     "name": "stdout",
     "output_type": "stream",
     "text": [
      "Fitting pipeline: pipe_tf_idf\n"
     ]
    },
    {
     "name": "stderr",
     "output_type": "stream",
     "text": [
      "100%|██████████| 2/2 [49:56<00:00, 1498.33s/it]\n"
     ]
    }
   ],
   "source": [
    "from sklearn.ensemble import RandomForestClassifier\n",
    "\n",
    "rf = RandomForestClassifier()\n",
    "\n",
    "pipe_rf_bow = Pipeline([\n",
    "    ('bow',bow),\n",
    "    ('clf',rf)\n",
    "])\n",
    "\n",
    "pipe_rf_tf_idf = Pipeline([\n",
    "    ('tf-idf',tf_idf),\n",
    "    ('clf',rf)\n",
    "])\n",
    "\n",
    "pipelines = {'pipe_bow':pipe_rf_bow, 'pipe_tf_idf':pipe_rf_tf_idf}\n",
    "\n",
    "for name,pipe in tqdm(pipelines.items()):\n",
    "    print(f'Fitting pipeline: {name}')\n",
    "    pipe.fit(X_train,y_train)"
   ]
  },
  {
   "cell_type": "code",
   "execution_count": 17,
   "metadata": {},
   "outputs": [
    {
     "name": "stdout",
     "output_type": "stream",
     "text": [
      "result for rf_bow: \n",
      "\n",
      "Accuracy : 0.81\n",
      "              precision    recall  f1-score   support\n",
      "\n",
      "         0.0       0.80      0.84      0.82      5000\n",
      "         1.0       0.83      0.79      0.81      5000\n",
      "\n",
      "    accuracy                           0.81     10000\n",
      "   macro avg       0.81      0.81      0.81     10000\n",
      "weighted avg       0.81      0.81      0.81     10000\n",
      "\n",
      "[[4176  824]\n",
      " [1032 3968]]\n"
     ]
    }
   ],
   "source": [
    "## prediction\n",
    "y_pred = pipe_rf_bow.predict(X_test)\n",
    "print('result for rf_bow: \\n')\n",
    "performance(y_test,y_pred)"
   ]
  },
  {
   "cell_type": "code",
   "execution_count": 18,
   "metadata": {},
   "outputs": [
    {
     "name": "stdout",
     "output_type": "stream",
     "text": [
      "result for rf_tf-idf: \n",
      "\n",
      "Accuracy : 0.85\n",
      "              precision    recall  f1-score   support\n",
      "\n",
      "         0.0       0.85      0.85      0.85      5000\n",
      "         1.0       0.85      0.85      0.85      5000\n",
      "\n",
      "    accuracy                           0.85     10000\n",
      "   macro avg       0.85      0.85      0.85     10000\n",
      "weighted avg       0.85      0.85      0.85     10000\n",
      "\n",
      "[[4231  769]\n",
      " [ 756 4244]]\n"
     ]
    }
   ],
   "source": [
    "## prediction\n",
    "y_pred = pipe_rf_tf_idf.predict(X_test)\n",
    "print('result for rf_tf-idf: \\n')\n",
    "performance(y_test,y_pred)"
   ]
  },
  {
   "cell_type": "code",
   "execution_count": 40,
   "metadata": {},
   "outputs": [],
   "source": [
    "sample = ['There is some part where the scene is bad, but in overrall, its quite good']\n",
    "result = pipe_rf_tf_idf.predict(sample)"
   ]
  },
  {
   "cell_type": "code",
   "execution_count": 72,
   "metadata": {},
   "outputs": [
    {
     "data": {
      "text/plain": [
       "'positive'"
      ]
     },
     "execution_count": 72,
     "metadata": {},
     "output_type": "execute_result"
    }
   ],
   "source": [
    "def sentiment(result):\n",
    "    return f'{ohe.categories_[0][int(result[0])]}'\n",
    "    \n",
    "sentiment(result)"
   ]
  },
  {
   "cell_type": "code",
   "execution_count": 74,
   "metadata": {},
   "outputs": [],
   "source": [
    "## Save the trained pipeline into pickle file\n",
    "import pickle\n",
    "\n",
    "with open ('trained_pipe-0.1.0.pkl','wb') as f:\n",
    "    pickle.dump(pipe_rf_tf_idf,f)"
   ]
  },
  {
   "cell_type": "code",
   "execution_count": null,
   "metadata": {},
   "outputs": [],
   "source": []
  }
 ],
 "metadata": {
  "kernelspec": {
   "display_name": "Python 3",
   "language": "python",
   "name": "python3"
  },
  "language_info": {
   "codemirror_mode": {
    "name": "ipython",
    "version": 3
   },
   "file_extension": ".py",
   "mimetype": "text/x-python",
   "name": "python",
   "nbconvert_exporter": "python",
   "pygments_lexer": "ipython3",
   "version": "3.10.0"
  }
 },
 "nbformat": 4,
 "nbformat_minor": 2
}
